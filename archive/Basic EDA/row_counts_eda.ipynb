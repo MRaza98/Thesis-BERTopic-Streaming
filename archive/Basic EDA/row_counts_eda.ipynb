{
 "cells": [
  {
   "cell_type": "code",
   "execution_count": 1,
   "metadata": {},
   "outputs": [],
   "source": [
    "import pandas as pd"
   ]
  },
  {
   "cell_type": "code",
   "execution_count": 3,
   "metadata": {},
   "outputs": [
    {
     "name": "stderr",
     "output_type": "stream",
     "text": [
      "/var/folders/1z/kkxxkq_90qldq3ngyx1pj0fr0000gn/T/ipykernel_40819/3653340163.py:5: DtypeWarning: Columns (1) have mixed types. Specify dtype option on import or set low_memory=False.\n",
      "  german_speeches = pd.read_csv('/Users/muhammadraza/Documents/GitHub/Streaming-Pipeline-Parliamentary-Debates/dataverse_files/Corp_Bundestag_V2.csv')\n"
     ]
    }
   ],
   "source": [
    "# Reading in data for all countries from the dataverse_files folder:\n",
    "\n",
    "english_speeches = pd.read_csv('/Users/muhammadraza/Documents/GitHub/Streaming-Pipeline-Parliamentary-Debates/dataverse_files/Corp_HouseOfCommons_V2.csv')\n",
    "spanish_speeches = pd.read_csv('/Users/muhammadraza/Documents/GitHub/Streaming-Pipeline-Parliamentary-Debates/dataverse_files/Corp_Congreso_V2.csv')\n",
    "german_speeches = pd.read_csv('/Users/muhammadraza/Documents/GitHub/Streaming-Pipeline-Parliamentary-Debates/dataverse_files/Corp_Bundestag_V2.csv')"
   ]
  },
  {
   "cell_type": "code",
   "execution_count": 6,
   "metadata": {},
   "outputs": [
    {
     "name": "stdout",
     "output_type": "stream",
     "text": [
      "                      Row Count\n",
      "Dataset                        \n",
      "English speeches        1956223\n",
      "New Zealand speeches     925766\n",
      "German speeches          379545\n",
      "Spanish speeches         262276\n",
      "Austrian speeches        199481\n"
     ]
    }
   ],
   "source": [
    "import pandas as pd\n",
    "\n",
    "# Create a dictionary with dataset names and their corresponding DataFrames\n",
    "datasets = {\n",
    "    \"English speeches\": english_speeches,\n",
    "    \"Spanish speeches\": spanish_speeches,\n",
    "    \"German speeches\": german_speeches,\n",
    "}\n",
    "\n",
    "# Create a list of dictionaries containing the dataset name and row count\n",
    "data = [{\"Dataset\": name, \"Row Count\": len(df)} for name, df in datasets.items()]\n",
    "\n",
    "# Create a DataFrame from the list of dictionaries\n",
    "row_counts_df = pd.DataFrame(data)\n",
    "\n",
    "# Set the index to the Dataset column for better readability\n",
    "row_counts_df.set_index(\"Dataset\", inplace=True)\n",
    "\n",
    "# Optionally, you can sort the DataFrame by row count in descending order\n",
    "row_counts_df_sorted = row_counts_df.sort_values(\"Row Count\", ascending=False)\n",
    "print(row_counts_df_sorted)"
   ]
  },
  {
   "cell_type": "code",
   "execution_count": null,
   "metadata": {},
   "outputs": [],
   "source": []
  }
 ],
 "metadata": {
  "kernelspec": {
   "display_name": "Python 3",
   "language": "python",
   "name": "python3"
  },
  "language_info": {
   "codemirror_mode": {
    "name": "ipython",
    "version": 3
   },
   "file_extension": ".py",
   "mimetype": "text/x-python",
   "name": "python",
   "nbconvert_exporter": "python",
   "pygments_lexer": "ipython3",
   "version": "3.10.11"
  }
 },
 "nbformat": 4,
 "nbformat_minor": 2
}
